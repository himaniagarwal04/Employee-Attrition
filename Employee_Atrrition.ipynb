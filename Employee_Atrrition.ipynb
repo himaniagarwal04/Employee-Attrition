{
  "nbformat": 4,
  "nbformat_minor": 0,
  "metadata": {
    "colab": {
      "name": "Employee Atrrition - Himani Agarwal and Shanaya Aggarwal",
      "provenance": [],
      "collapsed_sections": [
        "Oqedqc0EIvpf",
        "yXUfOXOW_iPT",
        "I5-sGjod_pLJ",
        "rEq9h4_-BVO9",
        "1bB2rK3Lg6-B",
        "o2a0sVXEhOCU",
        "OREPLpRIdEPY",
        "t9w4qx8uDscL",
        "Vqk-1YE4Bzjh",
        "_9d6Q6vZCKvF",
        "V4ewsdW4DNJk"
      ],
      "toc_visible": true,
      "include_colab_link": true
    },
    "kernelspec": {
      "name": "python3",
      "display_name": "Python 3"
    },
    "language_info": {
      "name": "python"
    }
  },
  "cells": [
    {
      "cell_type": "markdown",
      "metadata": {
        "id": "view-in-github",
        "colab_type": "text"
      },
      "source": [
        "<a href=\"https://colab.research.google.com/github/himaniagarwal04/Employee-Attrition/blob/main/Employee_Atrrition.ipynb\" target=\"_parent\"><img src=\"https://colab.research.google.com/assets/colab-badge.svg\" alt=\"Open In Colab\"/></a>"
      ]
    },
    {
      "cell_type": "markdown",
      "source": [
        "#EMPLOYEE ATTRITION\n",
        "06001022021 Himani Agarwal\n",
        "02201022021 Shanaya Aggarwal\n",
        "```\n",
        "\n"
      ],
      "metadata": {
        "id": "XWAJ6qmg5cyk"
      }
    },
    {
      "cell_type": "markdown",
      "source": [
        "#EDA"
      ],
      "metadata": {
        "id": "Oqedqc0EIvpf"
      }
    },
    {
      "cell_type": "code",
      "execution_count": null,
      "metadata": {
        "id": "sXf-XKDG8KCw"
      },
      "outputs": [],
      "source": [
        "import numpy as np\n",
        "import pandas as pd\n",
        "import matplotlib.pyplot as plt  \n",
        "import seaborn as sns \n",
        "from sklearn.model_selection import train_test_split\n",
        "from sklearn import svm\n",
        "from sklearn.metrics import accuracy_score \n",
        "import statistics as st"
      ]
    },
    {
      "cell_type": "code",
      "source": [],
      "metadata": {
        "id": "AQ8BW4eS5oRP"
      },
      "execution_count": null,
      "outputs": []
    },
    {
      "cell_type": "code",
      "source": [
        "! unzip employee.zip"
      ],
      "metadata": {
        "colab": {
          "base_uri": "https://localhost:8080/"
        },
        "id": "5J9zTWVO_Gg0",
        "outputId": "8209018a-f82c-4049-eb66-a8f61707b5b5"
      },
      "execution_count": null,
      "outputs": [
        {
          "output_type": "stream",
          "name": "stdout",
          "text": [
            "Archive:  employee.zip\n",
            "  inflating: WA_Fn-UseC_-HR-Employee-Attrition.csv  \n"
          ]
        }
      ]
    },
    {
      "cell_type": "code",
      "source": [
        "df = pd.read_csv('/content/WA_Fn-UseC_-HR-Employee-Attrition.csv')\n",
        "df.shape"
      ],
      "metadata": {
        "colab": {
          "base_uri": "https://localhost:8080/"
        },
        "id": "jKlwiRgw8nHJ",
        "outputId": "dd83342e-0e06-4ddf-f060-71b1d890e3ad"
      },
      "execution_count": null,
      "outputs": [
        {
          "output_type": "execute_result",
          "data": {
            "text/plain": [
              "(1470, 35)"
            ]
          },
          "metadata": {},
          "execution_count": 3
        }
      ]
    },
    {
      "cell_type": "markdown",
      "source": [
        "The info() method prints information about the DataFrame. The information contains the number of columns, column labels, column data types and the number of cells in each column (non-null values)"
      ],
      "metadata": {
        "id": "5C1qZ0xsex8l"
      }
    },
    {
      "cell_type": "code",
      "source": [
        "df.info()"
      ],
      "metadata": {
        "colab": {
          "base_uri": "https://localhost:8080/"
        },
        "id": "QHGw8BnO9W9i",
        "outputId": "c6e5d654-63d3-4398-c2e1-e91cc59d72da"
      },
      "execution_count": null,
      "outputs": [
        {
          "output_type": "stream",
          "name": "stdout",
          "text": [
            "<class 'pandas.core.frame.DataFrame'>\n",
            "RangeIndex: 1470 entries, 0 to 1469\n",
            "Data columns (total 31 columns):\n",
            " #   Column                    Non-Null Count  Dtype\n",
            "---  ------                    --------------  -----\n",
            " 0   Attrition                 1470 non-null   int64\n",
            " 1   BusinessTravel            1470 non-null   int64\n",
            " 2   DailyRate                 1470 non-null   int64\n",
            " 3   Department                1470 non-null   int64\n",
            " 4   DistanceFromHome          1470 non-null   int64\n",
            " 5   Education                 1470 non-null   int64\n",
            " 6   EducationField            1470 non-null   int64\n",
            " 7   EnvironmentSatisfaction   1470 non-null   int64\n",
            " 8   Gender                    1470 non-null   int64\n",
            " 9   HourlyRate                1470 non-null   int64\n",
            " 10  JobInvolvement            1470 non-null   int64\n",
            " 11  JobLevel                  1470 non-null   int64\n",
            " 12  JobRole                   1470 non-null   int64\n",
            " 13  JobSatisfaction           1470 non-null   int64\n",
            " 14  MaritalStatus             1470 non-null   int64\n",
            " 15  MonthlyIncome             1470 non-null   int64\n",
            " 16  MonthlyRate               1470 non-null   int64\n",
            " 17  NumCompaniesWorked        1470 non-null   int64\n",
            " 18  OverTime                  1470 non-null   int64\n",
            " 19  PercentSalaryHike         1470 non-null   int64\n",
            " 20  PerformanceRating         1470 non-null   int64\n",
            " 21  RelationshipSatisfaction  1470 non-null   int64\n",
            " 22  StockOptionLevel          1470 non-null   int64\n",
            " 23  TotalWorkingYears         1470 non-null   int64\n",
            " 24  TrainingTimesLastYear     1470 non-null   int64\n",
            " 25  WorkLifeBalance           1470 non-null   int64\n",
            " 26  YearsAtCompany            1470 non-null   int64\n",
            " 27  YearsInCurrentRole        1470 non-null   int64\n",
            " 28  YearsSinceLastPromotion   1470 non-null   int64\n",
            " 29  YearsWithCurrManager      1470 non-null   int64\n",
            " 30  Age_Years                 1470 non-null   int64\n",
            "dtypes: int64(31)\n",
            "memory usage: 356.1 KB\n"
          ]
        }
      ]
    },
    {
      "cell_type": "code",
      "source": [
        "# identifying missing values\n",
        "df.isnull().sum()"
      ],
      "metadata": {
        "colab": {
          "base_uri": "https://localhost:8080/"
        },
        "id": "hHzitlix9i4A",
        "outputId": "77aaa6ef-8fbc-4af2-9260-1548eff408db"
      },
      "execution_count": null,
      "outputs": [
        {
          "output_type": "execute_result",
          "data": {
            "text/plain": [
              "Age                         0\n",
              "Attrition                   0\n",
              "BusinessTravel              0\n",
              "DailyRate                   0\n",
              "Department                  0\n",
              "DistanceFromHome            0\n",
              "Education                   0\n",
              "EducationField              0\n",
              "EmployeeCount               0\n",
              "EmployeeNumber              0\n",
              "EnvironmentSatisfaction     0\n",
              "Gender                      0\n",
              "HourlyRate                  0\n",
              "JobInvolvement              0\n",
              "JobLevel                    0\n",
              "JobRole                     0\n",
              "JobSatisfaction             0\n",
              "MaritalStatus               0\n",
              "MonthlyIncome               0\n",
              "MonthlyRate                 0\n",
              "NumCompaniesWorked          0\n",
              "Over18                      0\n",
              "OverTime                    0\n",
              "PercentSalaryHike           0\n",
              "PerformanceRating           0\n",
              "RelationshipSatisfaction    0\n",
              "StandardHours               0\n",
              "StockOptionLevel            0\n",
              "TotalWorkingYears           0\n",
              "TrainingTimesLastYear       0\n",
              "WorkLifeBalance             0\n",
              "YearsAtCompany              0\n",
              "YearsInCurrentRole          0\n",
              "YearsSinceLastPromotion     0\n",
              "YearsWithCurrManager        0\n",
              "dtype: int64"
            ]
          },
          "metadata": {},
          "execution_count": 5
        }
      ]
    },
    {
      "cell_type": "markdown",
      "source": [
        "There are no null values;"
      ],
      "metadata": {
        "id": "jJMsMmCEfPqN"
      }
    },
    {
      "cell_type": "code",
      "source": [
        "# checkc duplicate records\n",
        "df.duplicated()"
      ],
      "metadata": {
        "colab": {
          "base_uri": "https://localhost:8080/"
        },
        "id": "foiF9aEx-tF2",
        "outputId": "556a878c-03c5-4f44-f657-91b49cea7c67"
      },
      "execution_count": null,
      "outputs": [
        {
          "output_type": "execute_result",
          "data": {
            "text/plain": [
              "0       False\n",
              "1       False\n",
              "2       False\n",
              "3       False\n",
              "4       False\n",
              "        ...  \n",
              "1465    False\n",
              "1466    False\n",
              "1467    False\n",
              "1468    False\n",
              "1469    False\n",
              "Length: 1470, dtype: bool"
            ]
          },
          "metadata": {},
          "execution_count": 6
        }
      ]
    },
    {
      "cell_type": "markdown",
      "source": [
        "There are no duplicate records."
      ],
      "metadata": {
        "id": "noCSuZCYfSfI"
      }
    },
    {
      "cell_type": "code",
      "source": [
        "plt.figure(figsize=(10, 2))\n",
        "sns.countplot(y=\"Attrition\", data=df);"
      ],
      "metadata": {
        "colab": {
          "base_uri": "https://localhost:8080/",
          "height": 171
        },
        "id": "XacU2SwXzfaD",
        "outputId": "3ee9ce2a-26d7-40d7-8632-86e275fc63bc"
      },
      "execution_count": null,
      "outputs": [
        {
          "output_type": "display_data",
          "data": {
            "text/plain": [
              "<Figure size 720x144 with 1 Axes>"
            ],
            "image/png": "[encoded data removed]"
          },
          "metadata": {}
        }
      ]
    },
    {
      "cell_type": "markdown",
      "source": [
        "We can see that the data is unbalanced. The number of people getting attrited is way less than the number of people not getting attrited."
      ],
      "metadata": {
        "id": "qzbQtx9dzmzX"
      }
    },
    {
      "cell_type": "code",
      "source": [
        "# transform non numerical into numerical data\n",
        "from sklearn.preprocessing import LabelEncoder\n",
        "for column in df.columns:\n",
        "   if df[column].dtype==np.number:\n",
        "       continue\n",
        "   df[column]=LabelEncoder().fit_transform(df[column])"
      ],
      "metadata": {
        "colab": {
          "base_uri": "https://localhost:8080/"
        },
        "id": "bxdtfvCmDHXj",
        "outputId": "8511e32d-b19d-48bb-80c0-b660c74248fe"
      },
      "execution_count": null,
      "outputs": [
        {
          "output_type": "stream",
          "name": "stderr",
          "text": [
            "/usr/local/lib/python3.7/dist-packages/ipykernel_launcher.py:4: DeprecationWarning: Converting `np.inexact` or `np.floating` to a dtype is deprecated. The current result is `float64` which is not strictly correct.\n",
            "  after removing the cwd from sys.path.\n"
          ]
        }
      ]
    },
    {
      "cell_type": "code",
      "source": [
        "# remove some useless column\n",
        "df=df.drop('Over18',axis=1)\n",
        "df=df.drop('EmployeeNumber',axis=1)\n",
        "df=df.drop('StandardHours',axis=1)\n",
        "df=df.drop('EmployeeCount',axis=1)"
      ],
      "metadata": {
        "id": "XDs4y-nGHUl2"
      },
      "execution_count": null,
      "outputs": []
    },
    {
      "cell_type": "code",
      "source": [
        "# create a new column\n",
        "df['Age_Years']=df['Age']"
      ],
      "metadata": {
        "id": "bKaHQuT_E9UC"
      },
      "execution_count": null,
      "outputs": []
    },
    {
      "cell_type": "code",
      "source": [
        "#drop the column age\n",
        "df=df.drop('Age',axis=1)"
      ],
      "metadata": {
        "id": "YUgHpYksFKth"
      },
      "execution_count": null,
      "outputs": []
    },
    {
      "cell_type": "code",
      "source": [
        "# split the data\n",
        "X=df.iloc[:,1:df.shape[1]].values\n",
        "Y=df.iloc[:,0].values"
      ],
      "metadata": {
        "id": "GSkwaAOwBd6y"
      },
      "execution_count": null,
      "outputs": []
    },
    {
      "cell_type": "code",
      "source": [
        "# split the data into 80 and 20% testing\n",
        "from sklearn.model_selection import train_test_split\n",
        "X_train,X_test, Y_train, Y_test = train_test_split(X, Y,test_size=0.2, random_state=0)"
      ],
      "metadata": {
        "id": "ZudK28uEB0gX"
      },
      "execution_count": null,
      "outputs": []
    },
    {
      "cell_type": "code",
      "source": [
        "def train_test_ml_model(X_train,y_train,X_test,Model):\n",
        "    model.fit(X_train,y_train) #Train the Model\n",
        "    y_pred = model.predict(X_test) #Use the Model for prediction\n",
        "\n",
        "    # Test the Model\n",
        "    from sklearn.metrics import confusion_matrix\n",
        "    cm = confusion_matrix(Y_test,y_pred)\n",
        "    accuracy = round(100*np.trace(cm)/np.sum(cm),1)\n",
        "\n",
        "    #Plot/Display the results\n",
        "    cm_plot(cm,Model)\n",
        "    print('Accuracy of the Model' ,Model, str(accuracy)+'%')"
      ],
      "metadata": {
        "id": "IkOo1MN_7_S2"
      },
      "execution_count": null,
      "outputs": []
    },
    {
      "cell_type": "code",
      "source": [
        "def cm_plot(cm,Model):\n",
        "    plt.clf()\n",
        "    plt.imshow(cm, interpolation='nearest', cmap=plt.cm.Wistia)\n",
        "    classNames = ['Negative','Positive']\n",
        "    plt.title('Comparison of Prediction Result for '+ Model)\n",
        "    plt.ylabel('True label')\n",
        "    plt.xlabel('Predicted label')\n",
        "    tick_marks = np.arange(len(classNames))\n",
        "    plt.xticks(tick_marks, classNames, rotation=45)\n",
        "    plt.yticks(tick_marks, classNames)\n",
        "    s = [['TN','FP'], ['FN', 'TP']]\n",
        "    for i in range(2):\n",
        "        for j in range(2):\n",
        "            plt.text(j,i, str(s[i][j])+\" = \"+str(cm[i][j]))\n",
        "    plt.show()"
      ],
      "metadata": {
        "id": "992hTyF08E7a"
      },
      "execution_count": null,
      "outputs": []
    },
    {
      "cell_type": "markdown",
      "source": [
        "# Perform the necessary analysis on the given dataset and pick any three suitable models for the prediction of Attrition."
      ],
      "metadata": {
        "id": "rTgmKGtr14Fz"
      }
    },
    {
      "cell_type": "markdown",
      "source": [
        "#Random forest"
      ],
      "metadata": {
        "id": "yXUfOXOW_iPT"
      }
    },
    {
      "cell_type": "code",
      "source": [
        "# random forest\n",
        "from sklearn.ensemble import RandomForestClassifier\n",
        "forest=RandomForestClassifier(n_estimators=10, criterion='entropy',random_state=0)\n",
        "forest.fit(X_train,Y_train)"
      ],
      "metadata": {
        "colab": {
          "base_uri": "https://localhost:8080/"
        },
        "id": "4vxC8kjcAiR8",
        "outputId": "dffb32b9-8911-46ac-a76c-baeddc8941c9"
      },
      "execution_count": null,
      "outputs": [
        {
          "output_type": "execute_result",
          "data": {
            "text/plain": [
              "RandomForestClassifier(criterion='entropy', n_estimators=10, random_state=0)"
            ]
          },
          "metadata": {},
          "execution_count": 59
        }
      ]
    },
    {
      "cell_type": "code",
      "source": [
        "# get the accuracy on the training set\n",
        "forest.score(X_train,Y_train)"
      ],
      "metadata": {
        "colab": {
          "base_uri": "https://localhost:8080/"
        },
        "id": "yRhsuRG1Aiac",
        "outputId": "29f10d9a-0244-4984-aaeb-eec5e16203c6"
      },
      "execution_count": null,
      "outputs": [
        {
          "output_type": "execute_result",
          "data": {
            "text/plain": [
              "0.983843537414966"
            ]
          },
          "metadata": {},
          "execution_count": 60
        }
      ]
    },
    {
      "cell_type": "code",
      "source": [
        "y_pred = rf_model.predict(X_test)\n",
        "print(classification_report(Y_test,y_pred))\n"
      ],
      "metadata": {
        "colab": {
          "base_uri": "https://localhost:8080/"
        },
        "id": "ke1obLUTsgt9",
        "outputId": "b2c8e766-3958-4488-9d54-cc583c93a2df"
      },
      "execution_count": null,
      "outputs": [
        {
          "output_type": "stream",
          "name": "stdout",
          "text": [
            "              precision    recall  f1-score   support\n",
            "\n",
            "           0       0.85      0.99      0.91       245\n",
            "           1       0.67      0.12      0.21        49\n",
            "\n",
            "    accuracy                           0.84       294\n",
            "   macro avg       0.76      0.56      0.56       294\n",
            "weighted avg       0.82      0.84      0.80       294\n",
            "\n"
          ]
        }
      ]
    },
    {
      "cell_type": "markdown",
      "source": [
        "#KNN"
      ],
      "metadata": {
        "id": "I5-sGjod_pLJ"
      }
    },
    {
      "cell_type": "code",
      "source": [
        "from sklearn.neighbors import KNeighborsClassifier\n",
        "neighbors = []\n",
        "cv_scores = []\n",
        "\n",
        "from sklearn.model_selection import cross_val_score\n",
        "# perform 10 fold cross validation\n",
        "for k in range(1, 40, 2):\n",
        "\tneighbors.append(k)\n",
        "\tknn = KNeighborsClassifier(n_neighbors = k)\n",
        "\tscores = cross_val_score(\n",
        "\t\tknn, X_train, Y_train, cv = 10, scoring = 'accuracy')\n",
        "\tcv_scores.append(scores.mean())\n",
        "error_rate = [1-x for x in cv_scores]\n",
        "\n",
        "# determining the best k\n",
        "optimal_k = neighbors[error_rate.index(min(error_rate))]\n",
        "print('The optimal number of neighbors is % d ' % optimal_k)\n",
        "\n",
        "# plot misclassification error versus k\n",
        "plt.figure(figsize = (10, 6))\n",
        "plt.plot(range(1, 40, 2), error_rate, color ='blue', linestyle ='dashed', marker ='o',\n",
        "\t\tmarkerfacecolor ='red', markersize = 10)\n",
        "plt.xlabel('Number of neighbors')\n",
        "plt.ylabel('Misclassification Error')\n",
        "plt.show()\n"
      ],
      "metadata": {
        "colab": {
          "base_uri": "https://localhost:8080/",
          "height": 407
        },
        "id": "beH9aJXz_n7K",
        "outputId": "07356b9e-c756-44c5-ef22-4fdb4fa2ba1b"
      },
      "execution_count": null,
      "outputs": [
        {
          "output_type": "stream",
          "name": "stdout",
          "text": [
            "The optimal number of neighbors is  19 \n"
          ]
        },
        {
          "output_type": "display_data",
          "data": {
            "text/plain": [
              "<Figure size 720x432 with 1 Axes>"
            ],
            "image/png": "[encoded data removed]"
          },
          "metadata": {
            "needs_background": "light"
          }
        }
      ]
    },
    {
      "cell_type": "code",
      "source": [
        "#The optimal number of neighbors is  7 "
      ],
      "metadata": {
        "id": "aAJgCzrCA9B8"
      },
      "execution_count": null,
      "outputs": []
    },
    {
      "cell_type": "code",
      "source": [
        "from sklearn.model_selection import cross_val_predict, cross_val_score\n",
        "from sklearn.metrics import accuracy_score, classification_report\n",
        "from sklearn.metrics import confusion_matrix\n",
        "\n",
        "def print_score(clf, X_train, y_train, X_test, y_test, train = True):\n",
        "\tif train:\n",
        "\t\tprint(\"Train Result:\")\n",
        "\t\tprint(\"------------\")\n",
        "\t\tprint(\"Classification Report: \\n {}\\n\".format(classification_report(\n",
        "\t\t\t\ty_train, clf.predict(X_train))))\n",
        "\t\tprint(\"Confusion Matrix: \\n {}\\n\".format(confusion_matrix(\n",
        "\t\t\t\ty_train, clf.predict(X_train))))\n",
        "\n",
        "\t\tres = cross_val_score(clf, X_train, y_train,\n",
        "\t\t\t\t\t\t\tcv = 10, scoring ='accuracy')\n",
        "\t\tprint(\"Average Accuracy: \\t {0:.4f}\".format(np.mean(res)))\n",
        "\t\tprint(\"Accuracy SD: \\t\\t {0:.4f}\".format(np.std(res)))\n",
        "\t\tprint(\"accuracy score: {0:.4f}\\n\".format(accuracy_score(\n",
        "\t\t\t\ty_train, clf.predict(X_train))))\n",
        "\t\tprint(\"----------------------------------------------------------\")\n",
        "\t\t\t\t\n",
        "\telif train == False:\n",
        "\t\tprint(\"Test Result:\")\n",
        "\t\tprint(\"-----------\")\n",
        "\t\tprint(\"Classification Report: \\n {}\\n\".format(\n",
        "\t\t\t\tclassification_report(y_test, clf.predict(X_test))))\n",
        "\t\tprint(\"Confusion Matrix: \\n {}\\n\".format(\n",
        "\t\t\t\tconfusion_matrix(y_test, clf.predict(X_test))))\n",
        "\t\tprint(\"accuracy score: {0:.4f}\\n\".format(\n",
        "\t\t\t\taccuracy_score(y_test, clf.predict(X_test))))\n",
        "\t\tprint(\"-----------------------------------------------------------\")\n",
        "\t\t\n",
        "knn = KNeighborsClassifier(n_neighbors = 7)\n",
        "knn.fit(X_train, Y_train)\n",
        "print_score(knn, X_train, Y_train, X_test, Y_test, train = True)\n",
        "print_score(knn, X_train, Y_train, X_test, Y_test, train = False)\n"
      ],
      "metadata": {
        "colab": {
          "base_uri": "https://localhost:8080/"
        },
        "id": "-CIfD6IDAHqL",
        "outputId": "70b909cb-dc59-4b2e-9209-d448244ed7ae"
      },
      "execution_count": null,
      "outputs": [
        {
          "output_type": "stream",
          "name": "stdout",
          "text": [
            "Train Result:\n",
            "------------\n",
            "Classification Report: \n",
            "               precision    recall  f1-score   support\n",
            "\n",
            "           0       0.86      0.99      0.92       988\n",
            "           1       0.70      0.16      0.27       188\n",
            "\n",
            "    accuracy                           0.86      1176\n",
            "   macro avg       0.78      0.58      0.59      1176\n",
            "weighted avg       0.84      0.86      0.82      1176\n",
            "\n",
            "\n",
            "Confusion Matrix: \n",
            " [[975  13]\n",
            " [157  31]]\n",
            "\n",
            "Average Accuracy: \t 0.8342\n",
            "Accuracy SD: \t\t 0.0195\n",
            "accuracy score: 0.8554\n",
            "\n",
            "----------------------------------------------------------\n",
            "Test Result:\n",
            "-----------\n",
            "Classification Report: \n",
            "               precision    recall  f1-score   support\n",
            "\n",
            "           0       0.84      0.98      0.90       245\n",
            "           1       0.29      0.04      0.07        49\n",
            "\n",
            "    accuracy                           0.82       294\n",
            "   macro avg       0.56      0.51      0.49       294\n",
            "weighted avg       0.74      0.82      0.76       294\n",
            "\n",
            "\n",
            "Confusion Matrix: \n",
            " [[240   5]\n",
            " [ 47   2]]\n",
            "\n",
            "accuracy score: 0.8231\n",
            "\n",
            "-----------------------------------------------------------\n"
          ]
        }
      ]
    },
    {
      "cell_type": "markdown",
      "source": [
        "#Logistic regression"
      ],
      "metadata": {
        "id": "rEq9h4_-BVO9"
      }
    },
    {
      "cell_type": "code",
      "source": [
        "from sklearn.linear_model import LogisticRegression\n",
        "\n",
        "#Y=Y.astype('int')\n",
        "\n",
        "clf = LogisticRegression(solver='lbfgs', max_iter=5000)\n",
        "clf.fit(np.array(X),Y)"
      ],
      "metadata": {
        "colab": {
          "base_uri": "https://localhost:8080/"
        },
        "id": "gMOrxXrPBZKS",
        "outputId": "e149c64f-e72e-4d6d-8245-1d6bc251bc45"
      },
      "execution_count": null,
      "outputs": [
        {
          "output_type": "execute_result",
          "data": {
            "text/plain": [
              "LogisticRegression(max_iter=5000)"
            ]
          },
          "metadata": {},
          "execution_count": 24
        }
      ]
    },
    {
      "cell_type": "code",
      "source": [
        "from sklearn.metrics import accuracy_score\n",
        "\n",
        "pred_y = clf.predict(X_test)\n",
        "\n",
        "accuracy = accuracy_score(Y_test, pred_y, normalize=True, sample_weight=None)\n",
        "accuracy"
      ],
      "metadata": {
        "colab": {
          "base_uri": "https://localhost:8080/"
        },
        "id": "fosYTnliBfZx",
        "outputId": "7e23d626-0e26-481a-ef9c-67df98d61398"
      },
      "execution_count": null,
      "outputs": [
        {
          "output_type": "execute_result",
          "data": {
            "text/plain": [
              "0.8809523809523809"
            ]
          },
          "metadata": {},
          "execution_count": 25
        }
      ]
    },
    {
      "cell_type": "code",
      "source": [
        "from sklearn.metrics import classification_report\n",
        "\n",
        "print(classification_report(Y_test, pred_y))"
      ],
      "metadata": {
        "colab": {
          "base_uri": "https://localhost:8080/"
        },
        "id": "lL41BnZZCJaf",
        "outputId": "fc83bbe6-c703-4e57-b8d7-5dcbea63f8c4"
      },
      "execution_count": null,
      "outputs": [
        {
          "output_type": "stream",
          "name": "stdout",
          "text": [
            "              precision    recall  f1-score   support\n",
            "\n",
            "           0       0.89      0.98      0.93       245\n",
            "           1       0.77      0.41      0.53        49\n",
            "\n",
            "    accuracy                           0.88       294\n",
            "   macro avg       0.83      0.69      0.73       294\n",
            "weighted avg       0.87      0.88      0.87       294\n",
            "\n"
          ]
        }
      ]
    },
    {
      "cell_type": "markdown",
      "source": [
        "We have applied logistic model to the data getting an accuracy of 84.25%. As it is clear from our model that we are getting low value of recall for true value of attrition ,i.e., we are not getting enough of the relevant information from the data. The retrieved model shows high senstivity but low specifity.¶\n"
      ],
      "metadata": {
        "id": "n2qGfEgjCVzm"
      }
    },
    {
      "cell_type": "markdown",
      "source": [
        " # Plot the confusion matrix of all these models,"
      ],
      "metadata": {
        "id": "5UMVAm2M2M2v"
      }
    },
    {
      "cell_type": "markdown",
      "source": [
        "#Confusion Matrices"
      ],
      "metadata": {
        "id": "1bB2rK3Lg6-B"
      }
    },
    {
      "cell_type": "code",
      "source": [
        "#Confusion Matrix for Random forest\n",
        "from sklearn.ensemble import RandomForestClassifier, AdaBoostClassifier, GradientBoostingClassifier #Import packages related to Model\n",
        "Model = \"RandomForestClassifier\"\n",
        "model=RandomForestClassifier()\n",
        "\n",
        "train_test_ml_model(X_train,Y_train,X_test,Model)"
      ],
      "metadata": {
        "colab": {
          "base_uri": "https://localhost:8080/",
          "height": 341
        },
        "id": "OD5VD3eE8TJY",
        "outputId": "7fc12bdc-3b66-4b3c-d366-d1d5f568f557"
      },
      "execution_count": null,
      "outputs": [
        {
          "output_type": "display_data",
          "data": {
            "text/plain": [
              "<Figure size 432x288 with 1 Axes>"
            ],
            "image/png": "[encoded data removed]"
          },
          "metadata": {
            "needs_background": "light"
          }
        },
        {
          "output_type": "stream",
          "name": "stdout",
          "text": [
            "Accuracy of the Model RandomForestClassifier 85.0%\n"
          ]
        }
      ]
    },
    {
      "cell_type": "code",
      "source": [
        "#Confusion Matrix for KNN\n",
        "from sklearn.neighbors import KNeighborsClassifier  #Import packages related to Model\n",
        "Model = \"KNeighborsClassifier\"\n",
        "model=KNeighborsClassifier()\n",
        "\n",
        "train_test_ml_model(X_train,Y_train,X_test,Model)"
      ],
      "metadata": {
        "colab": {
          "base_uri": "https://localhost:8080/",
          "height": 341
        },
        "id": "eVRNwBTQ9JhY",
        "outputId": "bb84996b-8904-4d85-dbca-ac09489db984"
      },
      "execution_count": null,
      "outputs": [
        {
          "output_type": "display_data",
          "data": {
            "text/plain": [
              "<Figure size 432x288 with 1 Axes>"
            ],
            "image/png": "[encoded data removed]"
          },
          "metadata": {
            "needs_background": "light"
          }
        },
        {
          "output_type": "stream",
          "name": "stdout",
          "text": [
            "Accuracy of the Model KNeighborsClassifier 82.0%\n"
          ]
        }
      ]
    },
    {
      "cell_type": "code",
      "source": [
        "#Confusion Matrix for Logistic Regression\n",
        "\n",
        "from sklearn.linear_model import SGDClassifier, LogisticRegression #Import packages related to Model\n",
        "Model = \"LogisticRegression\"\n",
        "model=LogisticRegression(solver='lbfgs', max_iter=5000)\n",
        "\n",
        "train_test_ml_model(X_train,Y_train,X_test,Model)"
      ],
      "metadata": {
        "colab": {
          "base_uri": "https://localhost:8080/",
          "height": 341
        },
        "id": "iDMV0xZE8wmy",
        "outputId": "1419ece8-dff3-4d6a-d55e-e44c15eb80ae"
      },
      "execution_count": null,
      "outputs": [
        {
          "output_type": "display_data",
          "data": {
            "text/plain": [
              "<Figure size 432x288 with 1 Axes>"
            ],
            "image/png": "[encoded data removed]"
          },
          "metadata": {
            "needs_background": "light"
          }
        },
        {
          "output_type": "stream",
          "name": "stdout",
          "text": [
            "Accuracy of the Model LogisticRegression 88.1%\n"
          ]
        }
      ]
    },
    {
      "cell_type": "markdown",
      "source": [
        "#Plot a graph to study the accuracy and f1-score of these models, and then choose the best model."
      ],
      "metadata": {
        "id": "kz7KjcEy2bdm"
      }
    },
    {
      "cell_type": "markdown",
      "source": [
        "#F1 Scores"
      ],
      "metadata": {
        "id": "o2a0sVXEhOCU"
      }
    },
    {
      "cell_type": "code",
      "source": [
        "# F1 score of Random Forest Model\n",
        "from sklearn.metrics import f1_score\n",
        "# instantiate\n",
        "rm = RandomForestClassifier()\n",
        "\n",
        "# fit\n",
        "rm.fit(X_train, Y_train)\n",
        "\n",
        "# predict\n",
        "y_pred = rm.predict(X_test)\n",
        "\n",
        "# f1 score\n",
        "score1 = f1_score(y_pred, Y_test)\n",
        "\n",
        "print(score1)"
      ],
      "metadata": {
        "colab": {
          "base_uri": "https://localhost:8080/"
        },
        "id": "Q9O5GaUhcpLs",
        "outputId": "09eb1a1d-7d71-4f79-a553-d8515ae0f400"
      },
      "execution_count": null,
      "outputs": [
        {
          "output_type": "stream",
          "name": "stdout",
          "text": [
            "0.23728813559322035\n"
          ]
        }
      ]
    },
    {
      "cell_type": "code",
      "source": [
        "# F1 score of Logistic Regression Model\n",
        "lr = lr=LogisticRegression(C = 0.1, random_state = 42, solver = 'liblinear')\n",
        "\n",
        "# fit\n",
        "lr.fit(X_train, Y_train)\n",
        "\n",
        "# predict\n",
        "y_pred = lr.predict(X_test)\n",
        "\n",
        "# f1 score\n",
        "score3 = f1_score(y_pred, Y_test)\n",
        "\n",
        "print(score3)"
      ],
      "metadata": {
        "colab": {
          "base_uri": "https://localhost:8080/"
        },
        "id": "VyyYN8dPc-qA",
        "outputId": "3ace8f05-f7ea-4453-e3d1-db2ccdc68253"
      },
      "execution_count": null,
      "outputs": [
        {
          "output_type": "stream",
          "name": "stdout",
          "text": [
            "0.44117647058823534\n"
          ]
        }
      ]
    },
    {
      "cell_type": "code",
      "source": [
        "# F1 score of KNN\n",
        "from sklearn.metrics import f1_score\n",
        "# instantiate\n",
        "knn = RandomForestClassifier()\n",
        "\n",
        "# fit\n",
        "knn.fit(X_train, Y_train)\n",
        "\n",
        "# predict\n",
        "y_pred = knn.predict(X_test)\n",
        "\n",
        "# f1 score\n",
        "score2 = f1_score(y_pred, Y_test)\n",
        "\n",
        "print(score2)"
      ],
      "metadata": {
        "colab": {
          "base_uri": "https://localhost:8080/"
        },
        "id": "N-CuR-oktuEw",
        "outputId": "5f162d42-a3a9-458e-eb18-00c9cd072f8e"
      },
      "execution_count": null,
      "outputs": [
        {
          "output_type": "stream",
          "name": "stdout",
          "text": [
            "0.26666666666666666\n"
          ]
        }
      ]
    },
    {
      "cell_type": "markdown",
      "source": [
        "# Explain in the brief why you have chosen this model"
      ],
      "metadata": {
        "id": "g5ZquLRO2jKs"
      }
    },
    {
      "cell_type": "markdown",
      "source": [
        "#Comparing models"
      ],
      "metadata": {
        "id": "OREPLpRIdEPY"
      }
    },
    {
      "cell_type": "code",
      "source": [
        "from sklearn.linear_model import LogisticRegression\n",
        "from sklearn.ensemble import RandomForestClassifier\n",
        "from sklearn.neighbors import KNeighborsClassifier\n"
      ],
      "metadata": {
        "id": "i5pDiR9x7fB2"
      },
      "execution_count": null,
      "outputs": []
    },
    {
      "cell_type": "code",
      "source": [
        "lr=LogisticRegression(C = 0.1, random_state = 42, solver = 'liblinear')\n",
        "rm=RandomForestClassifier()\n",
        "knn = KNeighborsClassifier(n_neighbors=3)\n",
        "# svm = svm.SVC(kernel='linear')\n",
        "lr.fit(X_test,Y_test)\n",
        "knn.fit(X_test,Y_test)\n",
        "rm.fit(X_test,Y_test)\n",
        "dt.fit(X_test,Y_test)\n",
        "gnb.fit(X_test,Y_test)\n",
        "\n",
        "model_scores={'Logistic Regression':lr.score(X_test,Y_test),\n",
        "             'KNN classifier':knn.score(X_test,Y_test),\n",
        "          \n",
        "             'Random forest':rm.score(X_test,Y_test)\n",
        "             }\n",
        "model_scores"
      ],
      "metadata": {
        "colab": {
          "base_uri": "https://localhost:8080/"
        },
        "id": "lMZPIrBYDxY7",
        "outputId": "4c2a899f-5dd6-4bfb-dbbd-9653fd806b43"
      },
      "execution_count": null,
      "outputs": [
        {
          "output_type": "execute_result",
          "data": {
            "text/plain": [
              "{'KNN classifier': 0.8571428571428571,\n",
              " 'Logistic Regression': 0.8741496598639455,\n",
              " 'Random forest': 1.0}"
            ]
          },
          "metadata": {},
          "execution_count": 62
        }
      ]
    },
    {
      "cell_type": "code",
      "source": [
        "model_compare=pd.DataFrame(model_scores,index=['accuracy'])\n",
        "model_compare"
      ],
      "metadata": {
        "colab": {
          "base_uri": "https://localhost:8080/",
          "height": 81
        },
        "id": "VJyAQ9RBFO2S",
        "outputId": "2ab97d35-27a7-4257-a6af-c0e02413f68f"
      },
      "execution_count": null,
      "outputs": [
        {
          "output_type": "execute_result",
          "data": {
            "text/plain": [
              "          Logistic Regression  KNN classifier  Random forest\n",
              "accuracy              0.87415        0.857143            1.0"
            ],
            "text/html": [
              "\n",
              "  <div id=\"df-17966b6a-c523-4e99-8b51-dc39f8e8a9e5\">\n",
              "    <div class=\"colab-df-container\">\n",
              "      <div>\n",
              "<style scoped>\n",
              "    .dataframe tbody tr th:only-of-type {\n",
              "        vertical-align: middle;\n",
              "    }\n",
              "\n",
              "    .dataframe tbody tr th {\n",
              "        vertical-align: top;\n",
              "    }\n",
              "\n",
              "    .dataframe thead th {\n",
              "        text-align: right;\n",
              "    }\n",
              "</style>\n",
              "<table border=\"1\" class=\"dataframe\">\n",
              "  <thead>\n",
              "    <tr style=\"text-align: right;\">\n",
              "      <th></th>\n",
              "      <th>Logistic Regression</th>\n",
              "      <th>KNN classifier</th>\n",
              "      <th>Random forest</th>\n",
              "    </tr>\n",
              "  </thead>\n",
              "  <tbody>\n",
              "    <tr>\n",
              "      <th>accuracy</th>\n",
              "      <td>0.87415</td>\n",
              "      <td>0.857143</td>\n",
              "      <td>1.0</td>\n",
              "    </tr>\n",
              "  </tbody>\n",
              "</table>\n",
              "</div>\n",
              "      <button class=\"colab-df-convert\" onclick=\"convertToInteractive('df-17966b6a-c523-4e99-8b51-dc39f8e8a9e5')\"\n",
              "              title=\"Convert this dataframe to an interactive table.\"\n",
              "              style=\"display:none;\">\n",
              "        \n",
              "  <svg xmlns=\"http://www.w3.org/2000/svg\" height=\"24px\"viewBox=\"0 0 24 24\"\n",
              "       width=\"24px\">\n",
              "    <path d=\"M0 0h24v24H0V0z\" fill=\"none\"/>\n",
              "    <path d=\"M18.56 5.44l.94 2.06.94-2.06 2.06-.94-2.06-.94-.94-2.06-.94 2.06-2.06.94zm-11 1L8.5 8.5l.94-2.06 2.06-.94-2.06-.94L8.5 2.5l-.94 2.06-2.06.94zm10 10l.94 2.06.94-2.06 2.06-.94-2.06-.94-.94-2.06-.94 2.06-2.06.94z\"/><path d=\"M17.41 7.96l-1.37-1.37c-.4-.4-.92-.59-1.43-.59-.52 0-1.04.2-1.43.59L10.3 9.45l-7.72 7.72c-.78.78-.78 2.05 0 2.83L4 21.41c.39.39.9.59 1.41.59.51 0 1.02-.2 1.41-.59l7.78-7.78 2.81-2.81c.8-.78.8-2.07 0-2.86zM5.41 20L4 18.59l7.72-7.72 1.47 1.35L5.41 20z\"/>\n",
              "  </svg>\n",
              "      </button>\n",
              "      \n",
              "  <style>\n",
              "    .colab-df-container {\n",
              "      display:flex;\n",
              "      flex-wrap:wrap;\n",
              "      gap: 12px;\n",
              "    }\n",
              "\n",
              "    .colab-df-convert {\n",
              "      background-color: #E8F0FE;\n",
              "      border: none;\n",
              "      border-radius: 50%;\n",
              "      cursor: pointer;\n",
              "      display: none;\n",
              "      fill: #1967D2;\n",
              "      height: 32px;\n",
              "      padding: 0 0 0 0;\n",
              "      width: 32px;\n",
              "    }\n",
              "\n",
              "    .colab-df-convert:hover {\n",
              "      background-color: #E2EBFA;\n",
              "      box-shadow: 0px 1px 2px rgba(60, 64, 67, 0.3), 0px 1px 3px 1px rgba(60, 64, 67, 0.15);\n",
              "      fill: #174EA6;\n",
              "    }\n",
              "\n",
              "    [theme=dark] .colab-df-convert {\n",
              "      background-color: #3B4455;\n",
              "      fill: #D2E3FC;\n",
              "    }\n",
              "\n",
              "    [theme=dark] .colab-df-convert:hover {\n",
              "      background-color: #434B5C;\n",
              "      box-shadow: 0px 1px 3px 1px rgba(0, 0, 0, 0.15);\n",
              "      filter: drop-shadow(0px 1px 2px rgba(0, 0, 0, 0.3));\n",
              "      fill: #FFFFFF;\n",
              "    }\n",
              "  </style>\n",
              "\n",
              "      <script>\n",
              "        const buttonEl =\n",
              "          document.querySelector('#df-17966b6a-c523-4e99-8b51-dc39f8e8a9e5 button.colab-df-convert');\n",
              "        buttonEl.style.display =\n",
              "          google.colab.kernel.accessAllowed ? 'block' : 'none';\n",
              "\n",
              "        async function convertToInteractive(key) {\n",
              "          const element = document.querySelector('#df-17966b6a-c523-4e99-8b51-dc39f8e8a9e5');\n",
              "          const dataTable =\n",
              "            await google.colab.kernel.invokeFunction('convertToInteractive',\n",
              "                                                     [key], {});\n",
              "          if (!dataTable) return;\n",
              "\n",
              "          const docLinkHtml = 'Like what you see? Visit the ' +\n",
              "            '<a target=\"_blank\" href=https://colab.research.google.com/notebooks/data_table.ipynb>data table notebook</a>'\n",
              "            + ' to learn more about interactive tables.';\n",
              "          element.innerHTML = '';\n",
              "          dataTable['output_type'] = 'display_data';\n",
              "          await google.colab.output.renderOutput(dataTable, element);\n",
              "          const docLink = document.createElement('div');\n",
              "          docLink.innerHTML = docLinkHtml;\n",
              "          element.appendChild(docLink);\n",
              "        }\n",
              "      </script>\n",
              "    </div>\n",
              "  </div>\n",
              "  "
            ]
          },
          "metadata": {},
          "execution_count": 31
        }
      ]
    },
    {
      "cell_type": "code",
      "source": [
        "model_compare.T.plot(kind='bar') # (T is here for transpose)"
      ],
      "metadata": {
        "colab": {
          "base_uri": "https://localhost:8080/",
          "height": 441
        },
        "id": "pQLQnESWI07M",
        "outputId": "9b8c0ba5-5db4-4222-c0c0-321f1d67f1f2"
      },
      "execution_count": null,
      "outputs": [
        {
          "output_type": "execute_result",
          "data": {
            "text/plain": [
              "<matplotlib.axes._subplots.AxesSubplot at 0x7f5f7908b6d0>"
            ]
          },
          "metadata": {},
          "execution_count": 32
        },
        {
          "output_type": "display_data",
          "data": {
            "text/plain": [
              "<Figure size 576x396 with 1 Axes>"
            ],
            "image/png": "[encoded data removed]"
          },
          "metadata": {}
        }
      ]
    },
    {
      "cell_type": "markdown",
      "source": [
        "No single algorithm dominates when choosing a machine learning model. Some perform better with large data sets and some perform better with high dimensional data. Thus, it is important to assess a model’s effectiveness for your particular data set. . \n",
        "\n",
        "A random forest is a supervised machine learning algorithm that is constructed from decision tree algorithms. A random forest produces good predictions that can be understood easily. Prediction speed is significantly faster than training speed because we can save generated forests for future uses."
      ],
      "metadata": {
        "id": "aLS6bxHq0IEd"
      }
    },
    {
      "cell_type": "code",
      "source": [
        "plt.figure(figsize=(10, 2))\n",
        "sns.countplot(y=\"Attrition\", data=df);"
      ],
      "metadata": {
        "colab": {
          "base_uri": "https://localhost:8080/",
          "height": 171
        },
        "id": "4zW_6UTM0DA7",
        "outputId": "fa81a5dd-ccaa-46bc-a89d-c33840d67201"
      },
      "execution_count": null,
      "outputs": [
        {
          "output_type": "display_data",
          "data": {
            "text/plain": [
              "<Figure size 720x144 with 1 Axes>"
            ],
            "image/png": "[encoded data removed]"
          },
          "metadata": {}
        }
      ]
    },
    {
      "cell_type": "markdown",
      "source": [
        "It has methods for balancing error in class population unbalanced data sets. Random forest tries to minimize the overall error rate, so when we have an unbalance data set, the larger class will get a low error rate while the smaller class will have a larger error rate. As we can see, it is an unbalanced dataset, hence random forest model is the best to use with it."
      ],
      "metadata": {
        "id": "TWsoySD504Ic"
      }
    },
    {
      "cell_type": "markdown",
      "source": [
        "Even the accuracy of random forest model, when running on the test dataset is the most. Thus this model is the best one to be used in this case."
      ],
      "metadata": {
        "id": "k80BlsfV1Gj0"
      }
    },
    {
      "cell_type": "markdown",
      "source": [
        "# Choose any three examples to show the accuracy of the predictions of employee attrition."
      ],
      "metadata": {
        "id": "t9w4qx8uDscL"
      }
    },
    {
      "cell_type": "markdown",
      "source": [
        "The most accurate model obtained is the Random forest model. Hence, we "
      ],
      "metadata": {
        "id": "ZNoD2YYYtVBX"
      }
    },
    {
      "cell_type": "markdown",
      "source": [
        "##**example** 1"
      ],
      "metadata": {
        "id": "Vqk-1YE4Bzjh"
      }
    },
    {
      "cell_type": "code",
      "source": [
        "#  Checking the distribution of 'JobSatisfaction' variable\n",
        "df['JobSatisfaction'].value_counts()"
      ],
      "metadata": {
        "colab": {
          "base_uri": "https://localhost:8080/"
        },
        "id": "EC_HKv0q8svv",
        "outputId": "659c3f0d-ab7b-4257-977b-3efcce2d100b"
      },
      "execution_count": null,
      "outputs": [
        {
          "output_type": "execute_result",
          "data": {
            "text/plain": [
              "3    459\n",
              "2    442\n",
              "0    289\n",
              "1    280\n",
              "Name: JobSatisfaction, dtype: int64"
            ]
          },
          "metadata": {},
          "execution_count": 34
        }
      ]
    },
    {
      "cell_type": "code",
      "source": [
        "# split the dataset into dependent(x) and independent(y) datasets\n",
        "x1 = df.drop(columns = 'JobSatisfaction', axis = 1)\n",
        "y1 = df['JobSatisfaction']"
      ],
      "metadata": {
        "id": "e4DfRuCUB1hy"
      },
      "execution_count": null,
      "outputs": []
    },
    {
      "cell_type": "code",
      "source": [
        "#  splitting the data into train data and test data\n",
        "x1_train, x1_test, y1_train, y1_test = train_test_split(x1 , y1, test_size=0.2, stratify = y1, random_state  =42)\n",
        "print(x1.shape, x1_train.shape, x1_test.shape)"
      ],
      "metadata": {
        "colab": {
          "base_uri": "https://localhost:8080/"
        },
        "id": "58leNaEOB5k8",
        "outputId": "6d095081-d236-4bb0-9bff-182e4478b8e2"
      },
      "execution_count": null,
      "outputs": [
        {
          "output_type": "stream",
          "name": "stdout",
          "text": [
            "(1470, 30) (1176, 30) (294, 30)\n"
          ]
        }
      ]
    },
    {
      "cell_type": "code",
      "source": [
        "model=RandomForestClassifier()"
      ],
      "metadata": {
        "id": "K3TtbN57B8gg"
      },
      "execution_count": null,
      "outputs": []
    },
    {
      "cell_type": "code",
      "source": [
        "# training the LogisticRegression model with training data\n",
        "model.fit(x1_train, y1_train)  "
      ],
      "metadata": {
        "colab": {
          "base_uri": "https://localhost:8080/"
        },
        "id": "ckIZTSESB_G1",
        "outputId": "fb003e45-0b7c-491b-8e86-c4ae3fd434c7"
      },
      "execution_count": null,
      "outputs": [
        {
          "output_type": "execute_result",
          "data": {
            "text/plain": [
              "RandomForestClassifier()"
            ]
          },
          "metadata": {},
          "execution_count": 97
        }
      ]
    },
    {
      "cell_type": "code",
      "source": [
        "from scipy.sparse import data\n",
        "# accuracy on training data\n",
        "x1_train_pred = model.predict(x1_train)\n",
        "training_data_accuracy = accuracy_score(y1_train, x1_train_pred)\n",
        "print(\"Accuracy on Training data: \", round(training_data_accuracy*100,2), '%')\n",
        "#  accuracy on testing data\n",
        "x1_test_pred = model.predict(x1_test)\n",
        "testing_data_accuracy = accuracy_score(y1_test, x1_test_pred)\n",
        "print(\"Accuracy on Test data: \", round(testing_data_accuracy*100,2), '%')"
      ],
      "metadata": {
        "colab": {
          "base_uri": "https://localhost:8080/"
        },
        "id": "Zsn8_oWSCBo2",
        "outputId": "b5a12998-f998-44ec-d507-1a077dc051c5"
      },
      "execution_count": null,
      "outputs": [
        {
          "output_type": "stream",
          "name": "stdout",
          "text": [
            "Accuracy on Training data:  100.0 %\n",
            "Accuracy on Test data:  58.84 %\n"
          ]
        }
      ]
    },
    {
      "cell_type": "markdown",
      "source": [
        "##**example** 2\n"
      ],
      "metadata": {
        "id": "_9d6Q6vZCKvF"
      }
    },
    {
      "cell_type": "code",
      "source": [
        "#  Checking the distribution of 'OverTime' variable\n",
        "df['OverTime'].value_counts()"
      ],
      "metadata": {
        "colab": {
          "base_uri": "https://localhost:8080/"
        },
        "id": "Zqm-xXf9CMYE",
        "outputId": "0a7e4afb-68aa-4c92-df88-74da455bfbed"
      },
      "execution_count": null,
      "outputs": [
        {
          "output_type": "execute_result",
          "data": {
            "text/plain": [
              "0    1054\n",
              "1     416\n",
              "Name: OverTime, dtype: int64"
            ]
          },
          "metadata": {},
          "execution_count": 40
        }
      ]
    },
    {
      "cell_type": "code",
      "source": [
        "# split the dataset into dependent(x) and independent(y) datasets\n",
        "x1 = df.drop(columns = 'OverTime', axis = 1)\n",
        "y1 = df['OverTime']"
      ],
      "metadata": {
        "id": "EVH9MrudCPOS"
      },
      "execution_count": null,
      "outputs": []
    },
    {
      "cell_type": "code",
      "source": [
        "#  splitting the data into train data and test data\n",
        "x1_train, x1_test, y1_train, y1_test = train_test_split(x1 , y1, test_size=0.2, stratify = y1, random_state  =2)\n",
        "print(x1.shape, x1_train.shape, x1_test.shape)"
      ],
      "metadata": {
        "colab": {
          "base_uri": "https://localhost:8080/"
        },
        "id": "cvdYXsgjCSSb",
        "outputId": "5541931d-bb87-499a-f52a-4132df2f28ce"
      },
      "execution_count": null,
      "outputs": [
        {
          "output_type": "stream",
          "name": "stdout",
          "text": [
            "(1470, 30) (1176, 30) (294, 30)\n"
          ]
        }
      ]
    },
    {
      "cell_type": "code",
      "source": [
        "model=RandomForestClassifier()"
      ],
      "metadata": {
        "id": "SOJ_n3xTCUfD"
      },
      "execution_count": null,
      "outputs": []
    },
    {
      "cell_type": "code",
      "source": [
        "# training the LogisticRegression model with training data\n",
        "model.fit(x1_train, y1_train)  "
      ],
      "metadata": {
        "colab": {
          "base_uri": "https://localhost:8080/"
        },
        "id": "RdkfL19bDBwZ",
        "outputId": "e5350f46-ec68-4af4-eccb-047d3eea9399"
      },
      "execution_count": null,
      "outputs": [
        {
          "output_type": "execute_result",
          "data": {
            "text/plain": [
              "RandomForestClassifier()"
            ]
          },
          "metadata": {},
          "execution_count": 44
        }
      ]
    },
    {
      "cell_type": "code",
      "source": [
        "from scipy.sparse import data\n",
        "# accuracy on training data\n",
        "x1_train_pred = model.predict(x1_train)\n",
        "training_data_accuracy = accuracy_score(y1_train, x1_train_pred)\n",
        "print(\"Accuracy on Training data: \", round(training_data_accuracy*100,2), '%')\n",
        "#  accuracy on testing data\n",
        "x1_test_pred = model.predict(x1_test)\n",
        "testing_data_accuracy = accuracy_score(y1_test, x1_test_pred)\n",
        "print(\"Accuracy on Test data: \", round(testing_data_accuracy*100,2), '%')"
      ],
      "metadata": {
        "colab": {
          "base_uri": "https://localhost:8080/"
        },
        "id": "KeOu0t7eDDG1",
        "outputId": "38a4eef1-f639-41ac-fe86-fe843e41a838"
      },
      "execution_count": null,
      "outputs": [
        {
          "output_type": "stream",
          "name": "stdout",
          "text": [
            "Accuracy on Training data:  100.0 %\n",
            "Accuracy on Test data:  73.13 %\n"
          ]
        }
      ]
    },
    {
      "cell_type": "markdown",
      "source": [
        "##**example** 3"
      ],
      "metadata": {
        "id": "V4ewsdW4DNJk"
      }
    },
    {
      "cell_type": "code",
      "source": [
        "#  Checking the distribution of 'Gender' variable\n",
        "df['Gender'].value_counts()"
      ],
      "metadata": {
        "colab": {
          "base_uri": "https://localhost:8080/"
        },
        "id": "r75D5KoxDKW7",
        "outputId": "b54d99dc-10e3-4194-b6a5-f6513e8f5a4a"
      },
      "execution_count": null,
      "outputs": [
        {
          "output_type": "execute_result",
          "data": {
            "text/plain": [
              "1    882\n",
              "0    588\n",
              "Name: Gender, dtype: int64"
            ]
          },
          "metadata": {},
          "execution_count": 46
        }
      ]
    },
    {
      "cell_type": "code",
      "source": [
        "# split the dataset into dependent(x) and independent(y) datasets\n",
        "x1 = df.drop(columns = 'Gender', axis = 1)\n",
        "y1 = df['Gender']"
      ],
      "metadata": {
        "id": "YUkx5fc_DSHg"
      },
      "execution_count": null,
      "outputs": []
    },
    {
      "cell_type": "code",
      "source": [
        "#  splitting the data into train data and test data\n",
        "x1_train, x1_test, y1_train, y1_test = train_test_split(x1 , y1, test_size=0.2, stratify = y1, random_state  =2)\n",
        "print(x1.shape, x1_train.shape, x1_test.shape)"
      ],
      "metadata": {
        "colab": {
          "base_uri": "https://localhost:8080/"
        },
        "id": "NL453oQQDUrY",
        "outputId": "30cfcac7-b0ee-493e-f273-ac433fd56f1f"
      },
      "execution_count": null,
      "outputs": [
        {
          "output_type": "stream",
          "name": "stdout",
          "text": [
            "(1470, 30) (1176, 30) (294, 30)\n"
          ]
        }
      ]
    },
    {
      "cell_type": "code",
      "source": [
        "model=RandomForestClassifier()"
      ],
      "metadata": {
        "id": "e9Dg-Io8DX2K"
      },
      "execution_count": null,
      "outputs": []
    },
    {
      "cell_type": "code",
      "source": [
        "# training the LogisticRegression model with training data\n",
        "model.fit(x1_train, y1_train)  "
      ],
      "metadata": {
        "colab": {
          "base_uri": "https://localhost:8080/"
        },
        "id": "tJ66qH8zDZ1l",
        "outputId": "5a599941-21fe-48f9-9b7c-d56b45ccb73a"
      },
      "execution_count": null,
      "outputs": [
        {
          "output_type": "execute_result",
          "data": {
            "text/plain": [
              "RandomForestClassifier()"
            ]
          },
          "metadata": {},
          "execution_count": 50
        }
      ]
    },
    {
      "cell_type": "code",
      "source": [
        "from scipy.sparse import data\n",
        "# accuracy on training data\n",
        "x1_train_pred = model.predict(x1_train)\n",
        "training_data_accuracy = accuracy_score(y1_train, x1_train_pred)\n",
        "print(\"Accuracy on Training data: \", round(training_data_accuracy*100,2), '%')\n",
        "#  accuracy on testing data\n",
        "x1_test_pred = model.predict(x1_test)\n",
        "testing_data_accuracy = accuracy_score(y1_test, x1_test_pred)\n",
        "print(\"Accuracy on Test data: \", round(testing_data_accuracy*100,2), '%')"
      ],
      "metadata": {
        "colab": {
          "base_uri": "https://localhost:8080/"
        },
        "id": "BXxFW55IDcdv",
        "outputId": "cd5f6fdf-1e7c-4ef0-f6dc-c984cc4cfa11"
      },
      "execution_count": null,
      "outputs": [
        {
          "output_type": "stream",
          "name": "stdout",
          "text": [
            "Accuracy on Training data:  100.0 %\n",
            "Accuracy on Test data:  60.54 %\n"
          ]
        }
      ]
    }
  ]
}